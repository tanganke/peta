{
 "cells": [
  {
   "cell_type": "code",
   "execution_count": 1,
   "metadata": {},
   "outputs": [
    {
     "name": "stderr",
     "output_type": "stream",
     "text": [
      "  0%|          | 0/12 [00:00<?, ?it/s]Using the latest cached version of the module from /data/users/tanganke/.cache/huggingface/modules/datasets_modules/datasets/glue/dacbe3125aa31d7f70367a07a8a9e72a5a0bfeb5fc42e75c9db75b96da6053ad (last modified on Tue Aug  1 12:12:31 2023) since it couldn't be found locally at glue., or remotely on the Hugging Face Hub.\n",
      " 17%|█▋        | 2/12 [00:03<00:22,  2.26s/it]Using the latest cached version of the module from /data/users/tanganke/.cache/huggingface/modules/datasets_modules/datasets/glue/dacbe3125aa31d7f70367a07a8a9e72a5a0bfeb5fc42e75c9db75b96da6053ad (last modified on Tue Aug  1 12:12:31 2023) since it couldn't be found locally at glue., or remotely on the Hugging Face Hub.\n",
      " 33%|███▎      | 4/12 [00:09<00:21,  2.73s/it]Using the latest cached version of the module from /data/users/tanganke/.cache/huggingface/modules/datasets_modules/datasets/glue/dacbe3125aa31d7f70367a07a8a9e72a5a0bfeb5fc42e75c9db75b96da6053ad (last modified on Tue Aug  1 12:12:31 2023) since it couldn't be found locally at glue., or remotely on the Hugging Face Hub.\n",
      " 42%|████▏     | 5/12 [00:11<00:17,  2.51s/it]Using the latest cached version of the module from /data/users/tanganke/.cache/huggingface/modules/datasets_modules/datasets/glue/dacbe3125aa31d7f70367a07a8a9e72a5a0bfeb5fc42e75c9db75b96da6053ad (last modified on Tue Aug  1 12:12:31 2023) since it couldn't be found locally at glue., or remotely on the Hugging Face Hub.\n",
      " 67%|██████▋   | 8/12 [00:21<00:13,  3.33s/it]Using the latest cached version of the module from /data/users/tanganke/.cache/huggingface/modules/datasets_modules/datasets/glue/dacbe3125aa31d7f70367a07a8a9e72a5a0bfeb5fc42e75c9db75b96da6053ad (last modified on Tue Aug  1 12:12:31 2023) since it couldn't be found locally at glue., or remotely on the Hugging Face Hub.\n",
      " 75%|███████▌  | 9/12 [00:23<00:08,  2.89s/it]Using the latest cached version of the module from /data/users/tanganke/.cache/huggingface/modules/datasets_modules/datasets/glue/dacbe3125aa31d7f70367a07a8a9e72a5a0bfeb5fc42e75c9db75b96da6053ad (last modified on Tue Aug  1 12:12:31 2023) since it couldn't be found locally at glue., or remotely on the Hugging Face Hub.\n",
      " 83%|████████▎ | 10/12 [00:26<00:05,  2.65s/it]Using the latest cached version of the module from /data/users/tanganke/.cache/huggingface/modules/datasets_modules/datasets/glue/dacbe3125aa31d7f70367a07a8a9e72a5a0bfeb5fc42e75c9db75b96da6053ad (last modified on Tue Aug  1 12:12:31 2023) since it couldn't be found locally at glue., or remotely on the Hugging Face Hub.\n",
      " 92%|█████████▏| 11/12 [00:28<00:02,  2.45s/it]Using the latest cached version of the module from /data/users/tanganke/.cache/huggingface/modules/datasets_modules/datasets/glue/dacbe3125aa31d7f70367a07a8a9e72a5a0bfeb5fc42e75c9db75b96da6053ad (last modified on Tue Aug  1 12:12:31 2023) since it couldn't be found locally at glue., or remotely on the Hugging Face Hub.\n",
      "100%|██████████| 12/12 [00:30<00:00,  2.51s/it]\n"
     ]
    }
   ],
   "source": [
    "from datasets import load_dataset\n",
    "from tqdm import tqdm\n",
    "\n",
    "for name in tqdm(\n",
    "    [\n",
    "        \"ax\",\n",
    "        \"cola\",\n",
    "        \"mnli\",\n",
    "        \"mnli_matched\",\n",
    "        \"mnli_mismatched\",\n",
    "        \"mrpc\",\n",
    "        \"qnli\",\n",
    "        \"qqp\",\n",
    "        \"rte\",\n",
    "        \"sst2\",\n",
    "        \"stsb\",\n",
    "        \"wnli\",\n",
    "    ]\n",
    "):\n",
    "    dataset = load_dataset(\"glue\", name)"
   ]
  },
  {
   "cell_type": "code",
   "execution_count": null,
   "metadata": {},
   "outputs": [],
   "source": []
  }
 ],
 "metadata": {
  "kernelspec": {
   "display_name": "base",
   "language": "python",
   "name": "python3"
  },
  "language_info": {
   "codemirror_mode": {
    "name": "ipython",
    "version": 3
   },
   "file_extension": ".py",
   "mimetype": "text/x-python",
   "name": "python",
   "nbconvert_exporter": "python",
   "pygments_lexer": "ipython3",
   "version": "3.10.9"
  },
  "orig_nbformat": 4
 },
 "nbformat": 4,
 "nbformat_minor": 2
}
